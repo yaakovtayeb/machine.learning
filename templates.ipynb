{
 "cells": [
  {
   "cell_type": "code",
   "execution_count": 15,
   "metadata": {
    "collapsed": false
   },
   "outputs": [],
   "source": [
    "def SayHello(name):\n",
    "    print('Hello There, '+name)\n",
    "def DoSum(value1=1, value2=2):\n",
    "    return value1+value2"
   ]
  },
  {
   "cell_type": "code",
   "execution_count": 24,
   "metadata": {
    "collapsed": false
   },
   "outputs": [],
   "source": [
    "def TestValue(Value):\n",
    "    if Value == 5:\n",
    "        print('Value equals 5!')\n",
    "    elif Value == 6:\n",
    "        print('Value equals 6!')\n",
    "    else:\n",
    "        print('Value is something else.') \n",
    "        print('It equals ' + str(Value))\n",
    "num=int(input(\"Type a number: \"))\n",
    "TestValue(num)"
   ]
  },
  {
   "cell_type": "code",
   "execution_count": 27,
   "metadata": {
    "collapsed": true
   },
   "outputs": [],
   "source": [
    "def DisplayMulti(*VarArgs):\n",
    "    for Arg in VarArgs:\n",
    "        if Arg.upper() == 'CONT':\n",
    "            continue\n",
    "            print('Continue Argument: ' + Arg) \n",
    "        elif Arg.upper() == 'BREAK':\n",
    "            break\n",
    "            print('Break Argument: ' + Arg) \n",
    "        print('Good Argument: ' + Arg)\n",
    "DisplayMulti(\"a\", \"cont\", \"break\", \"c\")"
   ]
  },
  {
   "cell_type": "code",
   "execution_count": 38,
   "metadata": {
    "collapsed": false
   },
   "outputs": [
    {
     "name": "stdout",
     "output_type": "stream",
     "text": [
      "union Set(['Blue', 'Yellow', 'Green', 'Orange', 'Black', 'Red'])\n",
      "intersection Set(['Green', 'Black'])\n",
      "difference Set(['Blue', 'Red'])\n"
     ]
    }
   ],
   "source": [
    "#variables:\n",
    "#sets, tuples, lists, dictionaries\n",
    "from sets import Set\n",
    "SetA = Set(['Red', 'Blue', 'Green', 'Black'])\n",
    "SetB = Set(['Black', 'Green', 'Yellow', 'Orange'])\n",
    "SetX = SetA.union(SetB)\n",
    "print \"union\", SetX\n",
    "SetY = SetA.intersection(SetB)\n",
    "print \"intersection\", SetY\n",
    "SetZ = SetA.difference(SetB)\n",
    "print \"difference\", SetZ"
   ]
  },
  {
   "cell_type": "code",
   "execution_count": 44,
   "metadata": {
    "collapsed": false
   },
   "outputs": [
    {
     "name": "stdout",
     "output_type": "stream",
     "text": [
      "2\n",
      "3\n",
      "Orange \t1\n",
      "Yellow \t2\n",
      "Green \t3\n",
      "Brown \t4\n"
     ]
    }
   ],
   "source": [
    "ListA = ['Orange', 'Yellow', 'Green', 'Brown']\n",
    "ListB = [1, 2, 3, 4]\n",
    "for Value in ListB[1:3]:\n",
    "    print Value\n",
    "for Value1, Value2 in zip(ListA, ListB):\n",
    "    print Value1, '\\t', Value2"
   ]
  },
  {
   "cell_type": "code",
   "execution_count": 46,
   "metadata": {
    "collapsed": false
   },
   "outputs": [
    {
     "data": {
      "text/plain": [
       "3"
      ]
     },
     "execution_count": 46,
     "metadata": {},
     "output_type": "execute_result"
    }
   ],
   "source": [
    "MyDict = {\"Orange\":1, 'Blue':2, 'Pink':3}\n",
    "MyDict['Pink']"
   ]
  },
  {
   "cell_type": "code",
   "execution_count": 6,
   "metadata": {
    "collapsed": false
   },
   "outputs": [
    {
     "ename": "SyntaxError",
     "evalue": "invalid syntax (<ipython-input-6-987ba427dd99>, line 1)",
     "output_type": "error",
     "traceback": [
      "\u001b[0;36m  File \u001b[0;32m\"<ipython-input-6-987ba427dd99>\"\u001b[0;36m, line \u001b[0;32m1\u001b[0m\n\u001b[0;31m    [for j in range(5) 2]\u001b[0m\n\u001b[0m       ^\u001b[0m\n\u001b[0;31mSyntaxError\u001b[0m\u001b[0;31m:\u001b[0m invalid syntax\n"
     ]
    }
   ],
   "source": []
  },
  {
   "cell_type": "code",
   "execution_count": null,
   "metadata": {
    "collapsed": true
   },
   "outputs": [],
   "source": []
  }
 ],
 "metadata": {
  "kernelspec": {
   "display_name": "Python 2",
   "language": "python",
   "name": "python2"
  },
  "language_info": {
   "codemirror_mode": {
    "name": "ipython",
    "version": 2
   },
   "file_extension": ".py",
   "mimetype": "text/x-python",
   "name": "python",
   "nbconvert_exporter": "python",
   "pygments_lexer": "ipython2",
   "version": "2.7.13"
  }
 },
 "nbformat": 4,
 "nbformat_minor": 2
}
