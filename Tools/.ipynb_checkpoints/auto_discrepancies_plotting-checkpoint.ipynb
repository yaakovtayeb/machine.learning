{
 "cells": [
  {
   "cell_type": "code",
   "execution_count": 1,
   "metadata": {
    "collapsed": false
   },
   "outputs": [],
   "source": [
    "import numpy as np\n",
    "import pandas as pd\n",
    "import matplotlib.pyplot as plt\n",
    "from "
   ]
  },
  {
   "cell_type": "code",
   "execution_count": 3,
   "metadata": {
    "collapsed": false
   },
   "outputs": [
    {
     "name": "stdout",
     "output_type": "stream",
     "text": [
      "no Python documentation found for '__importlib__'\n",
      "\n"
     ]
    }
   ],
   "source": []
  },
  {
   "cell_type": "code",
   "execution_count": 1,
   "metadata": {
    "collapsed": true
   },
   "outputs": [],
   "source": [
    "def Month2Num(month):\n",
    "    cal={}\n",
    "    cal[\"January\"]=1\n",
    "    cal[\"january\"]=1\n",
    "    cal[\"Jan\"]=1\n",
    "    cal[\"jan\"]=1\n",
    "    cal[\"February\"]=2\n",
    "    cal[\"february\"]=2\n",
    "    cal[\"Feb\"]=2\n",
    "    cal[\"jan\"]=2\n",
    "    cal[\"March\"]=3\n",
    "    cal[\"march\"]=3\n",
    "    cal[\"Mar\"]=3\n",
    "    cal[\"jan\"]=3\n",
    "    cal[\"April\"]=4\n",
    "    cal[\"april\"]=4\n",
    "    cal[\"Apr\"]=4\n",
    "    cal[\"jan\"]=4\n",
    "    cal[\"May\"]=5\n",
    "    cal[\"may\"]=5\n",
    "    cal[\"June\"]=6\n",
    "    cal[\"june\"]=6\n",
    "    cal[\"Jun\"]=6\n",
    "    cal[\"jun\"]=6\n",
    "    cal[\"July\"]=7\n",
    "    cal[\"july\"]=7\n",
    "    cal[\"Jul\"]=7\n",
    "    cal[\"jul\"]=7\n",
    "    cal[\"August\"]=8\n",
    "    cal[\"august\"]=8\n",
    "    cal[\"Aug\"]=8\n",
    "    cal[\"aug\"]=8\n",
    "    cal[\"September\"]=9\n",
    "    cal[\"september\"]=9\n",
    "    cal[\"Sep\"]=9\n",
    "    cal[\"sep\"]=9\n",
    "    cal[\"October\"]=10\n",
    "    cal[\"october\"]=10\n",
    "    cal[\"Oct\"]=10\n",
    "    cal[\"oct\"]=10\n",
    "    cal[\"November\"]=11\n",
    "    cal[\"november\"]=11\n",
    "    cal[\"Nov\"]=11\n",
    "    cal[\"nov\"]=11\n",
    "    cal[\"December\"]=12\n",
    "    cal[\"december\"]=12\n",
    "    cal[\"Dec\"]=12\n",
    "    cal[\"dec\"]=12\n",
    "    return cal[month]"
   ]
  },
  {
   "cell_type": "code",
   "execution_count": 2,
   "metadata": {
    "collapsed": false
   },
   "outputs": [
    {
     "name": "stdout",
     "output_type": "stream",
     "text": [
      "10\n"
     ]
    }
   ],
   "source": [
    "print(Month2Num(\"October\"))"
   ]
  },
  {
   "cell_type": "code",
   "execution_count": 2,
   "metadata": {
    "collapsed": false
   },
   "outputs": [
    {
     "data": {
      "text/plain": [
       "{'GA value', 'Month', 'SW value', 'Year', 'device', 'site'}"
      ]
     },
     "execution_count": 2,
     "metadata": {},
     "output_type": "execute_result"
    }
   ],
   "source": [
    "#file columns are formated as:  site, device, year, month, SW value, GA value\n",
    "data = pd.read_clipboard(sep='\\t') #read from clipboard\n",
    "set(data[\"Month\"])\n",
    "data.loc[data['Month'] == 'January', 'Month'] = 1\n",
    "data.loc[data['Month'] == 'February', 'Month'] = 2\n",
    "data.loc[data['Month'] == 'March', 'Month'] = 3\n",
    "\n",
    "set(data) "
   ]
  },
  {
   "cell_type": "code",
   "execution_count": 16,
   "metadata": {
    "collapsed": true
   },
   "outputs": [
    {
     "name": "stdout",
     "output_type": "stream",
     "text": [
      "0     2826032.0\n",
      "1     2823260.0\n",
      "2     3348984.0\n",
      "3     3002165.0\n",
      "4     2835779.0\n",
      "5     3241032.0\n",
      "6      904802.0\n",
      "7     1028980.0\n",
      "8     1094222.0\n",
      "9      799906.0\n",
      "10     627404.0\n",
      "11     801212.0\n",
      "12     849427.0\n",
      "13     613986.0\n",
      "14     851437.0\n",
      "15    1026136.0\n",
      "16     761381.0\n",
      "17     934094.0\n",
      "18     413370.0\n",
      "19     406399.0\n",
      "20     492436.0\n",
      "21     344427.0\n",
      "22     325056.0\n",
      "23     386889.0\n",
      "24     570181.0\n",
      "25     609298.0\n",
      "26     824720.0\n",
      "27     545592.0\n",
      "28     601578.0\n",
      "29     722082.0\n",
      "        ...    \n",
      "42    3545827.0\n",
      "43    3616188.0\n",
      "44    4074990.0\n",
      "45    2931500.0\n",
      "46    2771523.0\n",
      "47    3438771.0\n",
      "48     498177.0\n",
      "49     332749.0\n",
      "50     373293.0\n",
      "51     762943.0\n",
      "52     491726.0\n",
      "53     723332.0\n",
      "54     609338.0\n",
      "55     618145.0\n",
      "56     855334.0\n",
      "57     552138.0\n",
      "58     632416.0\n",
      "59    1017989.0\n",
      "60     732573.0\n",
      "61     741663.0\n",
      "62     966683.0\n",
      "63     768211.0\n",
      "64     919671.0\n",
      "65    1313108.0\n",
      "66     691996.0\n",
      "67     666142.0\n",
      "68     797579.0\n",
      "69     660888.0\n",
      "70     718235.0\n",
      "71     790287.0\n",
      "Name: SW value, dtype: float64\n"
     ]
    }
   ],
   "source": [
    "data[\"SW value\"]=data[\"SW value\"].str.replace(\",\",\"\").astype('float')\n",
    "data[\"GA value\"]=data[\"GA value\"].str.replace(\",\",\"\").astype('float')"
   ]
  },
  {
   "cell_type": "code",
   "execution_count": 17,
   "metadata": {
    "collapsed": false
   },
   "outputs": [
    {
     "name": "stdout",
     "output_type": "stream",
     "text": [
      "device:\t mobile\n",
      "delta:\t -0.50241184229\n",
      "site:\t colehaan.com\n",
      "corr:\t 0.962525268816\n",
      "year:\t 2016\n",
      "device:\t desktop\n",
      "delta:\t -0.134994474552\n",
      "site:\t colehaan.com\n",
      "corr:\t 0.938957644699\n",
      "year:\t 2016\n",
      "device:\t mobile\n",
      "delta:\t -0.744133945742\n",
      "site:\t colehaan.com\n",
      "corr:\t 0.740578760449\n",
      "year:\t 2017\n",
      "device:\t desktop\n",
      "delta:\t -0.206342675782\n",
      "site:\t colehaan.com\n",
      "corr:\t 0.920344093142\n",
      "year:\t 2017\n",
      "device:\t mobile\n",
      "delta:\t -0.438880209041\n",
      "site:\t wehkamp.nl\n",
      "corr:\t 0.945130307032\n",
      "year:\t 2016\n",
      "device:\t desktop\n",
      "delta:\t -0.480107874895\n",
      "site:\t wehkamp.nl\n",
      "corr:\t 0.328042246928\n",
      "year:\t 2016\n",
      "device:\t mobile\n",
      "delta:\t -0.688605014821\n",
      "site:\t wehkamp.nl\n",
      "corr:\t 0.524514942721\n",
      "year:\t 2017\n",
      "device:\t desktop\n",
      "delta:\t -0.408130970718\n",
      "site:\t wehkamp.nl\n",
      "corr:\t 0.0841637807363\n",
      "year:\t 2017\n",
      "device:\t mobile\n",
      "delta:\t -0.52901266538\n",
      "site:\t boattrader.com\n",
      "corr:\t 0.995803260878\n",
      "year:\t 2016\n",
      "device:\t desktop\n",
      "delta:\t -0.577542101102\n",
      "site:\t boattrader.com\n",
      "corr:\t 0.997038532638\n",
      "year:\t 2016\n",
      "device:\t mobile\n",
      "delta:\t -0.666078830994\n",
      "site:\t boattrader.com\n",
      "corr:\t 0.917422270536\n",
      "year:\t 2017\n",
      "device:\t desktop\n",
      "delta:\t -0.555485592643\n",
      "site:\t boattrader.com\n",
      "corr:\t 0.973504113487\n",
      "year:\t 2017\n",
      "device:\t mobile\n",
      "delta:\t -0.378681667631\n",
      "site:\t rue21.com\n",
      "corr:\t 0.937066292629\n",
      "year:\t 2016\n",
      "device:\t desktop\n",
      "delta:\t -0.301463323503\n",
      "site:\t rue21.com\n",
      "corr:\t 0.387388900137\n",
      "year:\t 2016\n",
      "device:\t mobile\n",
      "delta:\t -0.139067076122\n",
      "site:\t rue21.com\n",
      "corr:\t -0.979981582156\n",
      "year:\t 2017\n",
      "device:\t desktop\n",
      "delta:\t -0.152130018506\n",
      "site:\t rue21.com\n",
      "corr:\t 0.701035685443\n",
      "year:\t 2017\n",
      "device:\t mobile\n",
      "delta:\t -0.394935523775\n",
      "site:\t swimsuitsforall.com\n",
      "corr:\t 0.991152183095\n",
      "year:\t 2016\n",
      "device:\t desktop\n",
      "delta:\t -0.536037335842\n",
      "site:\t swimsuitsforall.com\n",
      "corr:\t 0.600375513579\n",
      "year:\t 2016\n",
      "device:\t mobile\n",
      "delta:\t -0.656024168614\n",
      "site:\t swimsuitsforall.com\n",
      "corr:\t 0.858126268111\n",
      "year:\t 2017\n",
      "device:\t desktop\n",
      "delta:\t -0.487190760246\n",
      "site:\t swimsuitsforall.com\n",
      "corr:\t 0.836972256278\n",
      "year:\t 2017\n",
      "device:\t mobile\n",
      "delta:\t -0.614866229921\n",
      "site:\t yachtworld.com\n",
      "corr:\t -0.138321836513\n",
      "year:\t 2016\n",
      "device:\t desktop\n",
      "delta:\t -0.589233257865\n",
      "site:\t yachtworld.com\n",
      "corr:\t -0.758252467463\n",
      "year:\t 2016\n",
      "device:\t mobile\n",
      "delta:\t -0.641906166434\n",
      "site:\t yachtworld.com\n",
      "corr:\t 0.933282878724\n",
      "year:\t 2017\n",
      "device:\t desktop\n",
      "delta:\t -0.459185292098\n",
      "site:\t yachtworld.com\n",
      "corr:\t 0.972843291426\n",
      "year:\t 2017\n",
      "[{'device': 'mobile', 'year': 2016, 'site': 'colehaan.com', 'corr': 0.96252526881612244, 'delta': -0.50241184229029301}, {'device': 'desktop', 'year': 2016, 'site': 'colehaan.com', 'corr': 0.9389576446990141, 'delta': -0.13499447455163141}, {'device': 'mobile', 'year': 2017, 'site': 'colehaan.com', 'corr': 0.74057876044929105, 'delta': -0.74413394574203917}, {'device': 'desktop', 'year': 2017, 'site': 'colehaan.com', 'corr': 0.92034409314214938, 'delta': -0.20634267578248883}, {'device': 'mobile', 'year': 2016, 'site': 'wehkamp.nl', 'corr': 0.94513030703231571, 'delta': -0.43888020904145986}, {'device': 'desktop', 'year': 2016, 'site': 'wehkamp.nl', 'corr': 0.328042246928274, 'delta': -0.48010787489480733}, {'device': 'mobile', 'year': 2017, 'site': 'wehkamp.nl', 'corr': 0.52451494272144561, 'delta': -0.68860501482078562}, {'device': 'desktop', 'year': 2017, 'site': 'wehkamp.nl', 'corr': 0.084163780736348795, 'delta': -0.40813097071831278}, {'device': 'mobile', 'year': 2016, 'site': 'boattrader.com', 'corr': 0.99580326087842497, 'delta': -0.52901266537972602}, {'device': 'desktop', 'year': 2016, 'site': 'boattrader.com', 'corr': 0.99703853263839437, 'delta': -0.57754210110231052}, {'device': 'mobile', 'year': 2017, 'site': 'boattrader.com', 'corr': 0.917422270536152, 'delta': -0.66607883099361875}, {'device': 'desktop', 'year': 2017, 'site': 'boattrader.com', 'corr': 0.97350411348698362, 'delta': -0.55548559264255315}, {'device': 'mobile', 'year': 2016, 'site': 'rue21.com', 'corr': 0.93706629262862062, 'delta': -0.378681667630971}, {'device': 'desktop', 'year': 2016, 'site': 'rue21.com', 'corr': 0.38738890013690802, 'delta': -0.30146332350345051}, {'device': 'mobile', 'year': 2017, 'site': 'rue21.com', 'corr': -0.97998158215629438, 'delta': -0.13906707612231142}, {'device': 'desktop', 'year': 2017, 'site': 'rue21.com', 'corr': 0.70103568544296258, 'delta': -0.15213001850582994}, {'device': 'mobile', 'year': 2016, 'site': 'swimsuitsforall.com', 'corr': 0.99115218309548969, 'delta': -0.39493552377506713}, {'device': 'desktop', 'year': 2016, 'site': 'swimsuitsforall.com', 'corr': 0.60037551357913432, 'delta': -0.53603733584206581}, {'device': 'mobile', 'year': 2017, 'site': 'swimsuitsforall.com', 'corr': 0.85812626811147219, 'delta': -0.65602416861350199}, {'device': 'desktop', 'year': 2017, 'site': 'swimsuitsforall.com', 'corr': 0.83697225627817395, 'delta': -0.4871907602459849}, {'device': 'mobile', 'year': 2016, 'site': 'yachtworld.com', 'corr': -0.13832183651342389, 'delta': -0.61486622992099593}, {'device': 'desktop', 'year': 2016, 'site': 'yachtworld.com', 'corr': -0.75825246746318997, 'delta': -0.58923325786523195}, {'device': 'mobile', 'year': 2017, 'site': 'yachtworld.com', 'corr': 0.93328287872440452, 'delta': -0.64190616643449527}, {'device': 'desktop', 'year': 2017, 'site': 'yachtworld.com', 'corr': 0.97284329142618486, 'delta': -0.45918529209823972}]\n"
     ]
    }
   ],
   "source": [
    "x=list(set(data.Month))\n",
    "summary=list()\n",
    "local_summary={}    \n",
    "for sites in set(data[\"site\"]):\n",
    "    local_summary[\"site\"]=sites\n",
    "    for y in set(data[\"Year\"]):\n",
    "        local_summary[\"year\"]=y\n",
    "        for devices in set(data[\"device\"]):\n",
    "            tmp_data=data.loc[(data['site'] == sites) & (data['device'] == devices) & (data['Year'] == y)]\n",
    "            y_sw=tmp_data[\"SW value\"]\n",
    "            y_ga=tmp_data[\"GA value\"]\n",
    "            local_summary[\"device\"]=devices\n",
    "            #plot\n",
    "            plt.figure(1, figsize = (8,4))\n",
    "            plt.plot(x, y_sw, 'b-', label='SW Data', linewidth=2.0)\n",
    "            plt.plot(x, y_ga, 'r-', label=\"GA Data\", linewidth=2.0)\n",
    "            plt.xlabel('Month')\n",
    "            plt.ylabel('Visits')\n",
    "            plt.legend(loc='upper right')\n",
    "            plt.suptitle(\"%s (%d) - %s\" % (sites, y, devices))\n",
    "            ymax=int(np.max(np.concatenate((y_ga,y_sw))))\n",
    "            plt.ylim([0,ymax])\n",
    "            #plt.show() #display the plot\n",
    "            plt.savefig(\"output\\\\%s (%d) - %s.png\" % (sites, y, devices)) #save the plot to file\n",
    "            plt.clf()\n",
    "            local_summary[\"delta\"]=(sum(y_sw)-sum(y_ga))/float(sum(y_ga))\n",
    "            local_summary[\"corr\"]=np.corrcoef(y_sw,y_ga)[0,1]\n",
    "            summary.append(dict(local_summary))\n",
    "            #print details for each site, year, device\n",
    "            for k,v in local_summary.iteritems():\n",
    "                print \"%s:\\t %s\" % (k, v)\n",
    "            #raw_input(\"Press Enter to continue...\") #stop for manual processing\n",
    "print(summary)"
   ]
  },
  {
   "cell_type": "code",
   "execution_count": 18,
   "metadata": {
    "collapsed": false
   },
   "outputs": [],
   "source": [
    "output=pd.DataFrame(summary)\n",
    "output.to_csv('C:\\\\Users\\\\yaakov.tayeb\\\\Desktop\\\\\\dis_data.csv', header=True, mode='a')"
   ]
  },
  {
   "cell_type": "code",
   "execution_count": null,
   "metadata": {
    "collapsed": true
   },
   "outputs": [],
   "source": []
  },
  {
   "cell_type": "code",
   "execution_count": null,
   "metadata": {
    "collapsed": true
   },
   "outputs": [],
   "source": []
  }
 ],
 "metadata": {
  "kernelspec": {
   "display_name": "Python 2",
   "language": "python",
   "name": "python2"
  },
  "language_info": {
   "codemirror_mode": {
    "name": "ipython",
    "version": 2
   },
   "file_extension": ".py",
   "mimetype": "text/x-python",
   "name": "python",
   "nbconvert_exporter": "python",
   "pygments_lexer": "ipython2",
   "version": "2.7.13"
  }
 },
 "nbformat": 4,
 "nbformat_minor": 2
}
