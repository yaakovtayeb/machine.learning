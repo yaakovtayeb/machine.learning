{
 "cells": [
  {
   "cell_type": "code",
   "execution_count": 1,
   "metadata": {
    "collapsed": false
   },
   "outputs": [
    {
     "name": "stdout",
     "output_type": "stream",
     "text": [
      "/Users/yaakovtayeb/github/machine.learning/Tools\n"
     ]
    }
   ],
   "source": [
    "import numpy as np\n",
    "import pandas as pd\n",
    "import matplotlib.pyplot as plt\n",
    "import os\n",
    "cwd = os.getcwd()\n",
    "print cwd\n",
    "import scripts.calcon as m"
   ]
  },
  {
   "cell_type": "code",
   "execution_count": 2,
   "metadata": {
    "collapsed": false
   },
   "outputs": [],
   "source": [
    "#file columns are formated as:  site, device, year, month, SW value, GA value\n",
    "data = pd.read_clipboard(sep='\\t') #read from clipboard\n",
    "set(data[\"Month\"])\n",
    "data[\"Month\"]=map(m.Month2Num, data[\"Month\"])"
   ]
  },
  {
   "cell_type": "code",
   "execution_count": 3,
   "metadata": {
    "collapsed": false
   },
   "outputs": [],
   "source": [
    "data[\"SW value\"]=data[\"SW value\"].str.replace(\",\",\"\").astype('float')\n",
    "data[\"GA value\"]=data[\"GA value\"].str.replace(\",\",\"\").astype('float')\n",
    "data[\"SW-WW\"]=data[\"SW-WW\"].str.replace(\",\",\"\").astype('float')"
   ]
  },
  {
   "cell_type": "code",
   "execution_count": 4,
   "metadata": {
    "collapsed": true
   },
   "outputs": [
    {
     "data": {
      "text/html": [
       "<div>\n",
       "<table border=\"1\" class=\"dataframe\">\n",
       "  <thead>\n",
       "    <tr style=\"text-align: right;\">\n",
       "      <th></th>\n",
       "      <th>site</th>\n",
       "      <th>Year</th>\n",
       "      <th>device</th>\n",
       "      <th>Month</th>\n",
       "      <th>GA value</th>\n",
       "      <th>SW value</th>\n",
       "      <th>SW-WW</th>\n",
       "    </tr>\n",
       "  </thead>\n",
       "  <tbody>\n",
       "    <tr>\n",
       "      <th>0</th>\n",
       "      <td>99acres.com</td>\n",
       "      <td>2016</td>\n",
       "      <td>desktop</td>\n",
       "      <td>4</td>\n",
       "      <td>4505692.0</td>\n",
       "      <td>3368529.0</td>\n",
       "      <td>3672176.0</td>\n",
       "    </tr>\n",
       "    <tr>\n",
       "      <th>1</th>\n",
       "      <td>99acres.com</td>\n",
       "      <td>2016</td>\n",
       "      <td>desktop</td>\n",
       "      <td>5</td>\n",
       "      <td>4640054.0</td>\n",
       "      <td>3625624.0</td>\n",
       "      <td>3927876.0</td>\n",
       "    </tr>\n",
       "    <tr>\n",
       "      <th>2</th>\n",
       "      <td>99acres.com</td>\n",
       "      <td>2016</td>\n",
       "      <td>desktop</td>\n",
       "      <td>6</td>\n",
       "      <td>4634820.0</td>\n",
       "      <td>3630764.0</td>\n",
       "      <td>3891760.0</td>\n",
       "    </tr>\n",
       "    <tr>\n",
       "      <th>3</th>\n",
       "      <td>99acres.com</td>\n",
       "      <td>2016</td>\n",
       "      <td>desktop</td>\n",
       "      <td>7</td>\n",
       "      <td>4688520.0</td>\n",
       "      <td>3391903.0</td>\n",
       "      <td>3693705.0</td>\n",
       "    </tr>\n",
       "    <tr>\n",
       "      <th>4</th>\n",
       "      <td>99acres.com</td>\n",
       "      <td>2016</td>\n",
       "      <td>desktop</td>\n",
       "      <td>8</td>\n",
       "      <td>4625705.0</td>\n",
       "      <td>3440056.0</td>\n",
       "      <td>3741874.0</td>\n",
       "    </tr>\n",
       "    <tr>\n",
       "      <th>5</th>\n",
       "      <td>99acres.com</td>\n",
       "      <td>2016</td>\n",
       "      <td>desktop</td>\n",
       "      <td>9</td>\n",
       "      <td>4523815.0</td>\n",
       "      <td>3126548.0</td>\n",
       "      <td>3371398.0</td>\n",
       "    </tr>\n",
       "    <tr>\n",
       "      <th>6</th>\n",
       "      <td>99acres.com</td>\n",
       "      <td>2016</td>\n",
       "      <td>desktop</td>\n",
       "      <td>10</td>\n",
       "      <td>3913242.0</td>\n",
       "      <td>2828697.0</td>\n",
       "      <td>3065432.0</td>\n",
       "    </tr>\n",
       "    <tr>\n",
       "      <th>7</th>\n",
       "      <td>99acres.com</td>\n",
       "      <td>2016</td>\n",
       "      <td>desktop</td>\n",
       "      <td>11</td>\n",
       "      <td>3564214.0</td>\n",
       "      <td>2611551.0</td>\n",
       "      <td>2810532.0</td>\n",
       "    </tr>\n",
       "    <tr>\n",
       "      <th>8</th>\n",
       "      <td>99acres.com</td>\n",
       "      <td>2016</td>\n",
       "      <td>desktop</td>\n",
       "      <td>12</td>\n",
       "      <td>3477466.0</td>\n",
       "      <td>2418248.0</td>\n",
       "      <td>2631954.0</td>\n",
       "    </tr>\n",
       "    <tr>\n",
       "      <th>9</th>\n",
       "      <td>99acres.com</td>\n",
       "      <td>2017</td>\n",
       "      <td>desktop</td>\n",
       "      <td>1</td>\n",
       "      <td>4120051.0</td>\n",
       "      <td>2885979.0</td>\n",
       "      <td>3165010.0</td>\n",
       "    </tr>\n",
       "    <tr>\n",
       "      <th>10</th>\n",
       "      <td>99acres.com</td>\n",
       "      <td>2017</td>\n",
       "      <td>desktop</td>\n",
       "      <td>2</td>\n",
       "      <td>3921263.0</td>\n",
       "      <td>2964301.0</td>\n",
       "      <td>3334767.0</td>\n",
       "    </tr>\n",
       "    <tr>\n",
       "      <th>11</th>\n",
       "      <td>99acres.com</td>\n",
       "      <td>2017</td>\n",
       "      <td>desktop</td>\n",
       "      <td>3</td>\n",
       "      <td>4461264.0</td>\n",
       "      <td>3183542.0</td>\n",
       "      <td>3566936.0</td>\n",
       "    </tr>\n",
       "    <tr>\n",
       "      <th>12</th>\n",
       "      <td>99acres.com</td>\n",
       "      <td>2017</td>\n",
       "      <td>desktop</td>\n",
       "      <td>4</td>\n",
       "      <td>4101137.0</td>\n",
       "      <td>3259554.0</td>\n",
       "      <td>3626553.0</td>\n",
       "    </tr>\n",
       "    <tr>\n",
       "      <th>13</th>\n",
       "      <td>99acres.com</td>\n",
       "      <td>2016</td>\n",
       "      <td>mobile</td>\n",
       "      <td>4</td>\n",
       "      <td>2768431.0</td>\n",
       "      <td>2470680.0</td>\n",
       "      <td>2746118.0</td>\n",
       "    </tr>\n",
       "    <tr>\n",
       "      <th>14</th>\n",
       "      <td>99acres.com</td>\n",
       "      <td>2016</td>\n",
       "      <td>mobile</td>\n",
       "      <td>5</td>\n",
       "      <td>3109639.0</td>\n",
       "      <td>2435720.0</td>\n",
       "      <td>2772412.0</td>\n",
       "    </tr>\n",
       "    <tr>\n",
       "      <th>15</th>\n",
       "      <td>99acres.com</td>\n",
       "      <td>2016</td>\n",
       "      <td>mobile</td>\n",
       "      <td>6</td>\n",
       "      <td>3227258.0</td>\n",
       "      <td>2631462.0</td>\n",
       "      <td>2907792.0</td>\n",
       "    </tr>\n",
       "    <tr>\n",
       "      <th>16</th>\n",
       "      <td>99acres.com</td>\n",
       "      <td>2016</td>\n",
       "      <td>mobile</td>\n",
       "      <td>7</td>\n",
       "      <td>3306307.0</td>\n",
       "      <td>2582508.0</td>\n",
       "      <td>2915612.0</td>\n",
       "    </tr>\n",
       "    <tr>\n",
       "      <th>17</th>\n",
       "      <td>99acres.com</td>\n",
       "      <td>2016</td>\n",
       "      <td>mobile</td>\n",
       "      <td>8</td>\n",
       "      <td>3923996.0</td>\n",
       "      <td>2308446.0</td>\n",
       "      <td>2653440.0</td>\n",
       "    </tr>\n",
       "    <tr>\n",
       "      <th>18</th>\n",
       "      <td>99acres.com</td>\n",
       "      <td>2016</td>\n",
       "      <td>mobile</td>\n",
       "      <td>9</td>\n",
       "      <td>3862132.0</td>\n",
       "      <td>2283550.0</td>\n",
       "      <td>2769473.0</td>\n",
       "    </tr>\n",
       "    <tr>\n",
       "      <th>19</th>\n",
       "      <td>99acres.com</td>\n",
       "      <td>2016</td>\n",
       "      <td>mobile</td>\n",
       "      <td>10</td>\n",
       "      <td>3408078.0</td>\n",
       "      <td>1839079.0</td>\n",
       "      <td>2117895.0</td>\n",
       "    </tr>\n",
       "    <tr>\n",
       "      <th>20</th>\n",
       "      <td>99acres.com</td>\n",
       "      <td>2016</td>\n",
       "      <td>mobile</td>\n",
       "      <td>11</td>\n",
       "      <td>2923664.0</td>\n",
       "      <td>1722590.0</td>\n",
       "      <td>2060866.0</td>\n",
       "    </tr>\n",
       "    <tr>\n",
       "      <th>21</th>\n",
       "      <td>99acres.com</td>\n",
       "      <td>2016</td>\n",
       "      <td>mobile</td>\n",
       "      <td>12</td>\n",
       "      <td>2913163.0</td>\n",
       "      <td>1512864.0</td>\n",
       "      <td>1770117.0</td>\n",
       "    </tr>\n",
       "    <tr>\n",
       "      <th>22</th>\n",
       "      <td>99acres.com</td>\n",
       "      <td>2017</td>\n",
       "      <td>mobile</td>\n",
       "      <td>1</td>\n",
       "      <td>3684749.0</td>\n",
       "      <td>1729808.0</td>\n",
       "      <td>2136532.0</td>\n",
       "    </tr>\n",
       "    <tr>\n",
       "      <th>23</th>\n",
       "      <td>99acres.com</td>\n",
       "      <td>2017</td>\n",
       "      <td>mobile</td>\n",
       "      <td>2</td>\n",
       "      <td>3914831.0</td>\n",
       "      <td>1790517.0</td>\n",
       "      <td>2041307.0</td>\n",
       "    </tr>\n",
       "    <tr>\n",
       "      <th>24</th>\n",
       "      <td>99acres.com</td>\n",
       "      <td>2017</td>\n",
       "      <td>mobile</td>\n",
       "      <td>3</td>\n",
       "      <td>4915163.0</td>\n",
       "      <td>2114851.0</td>\n",
       "      <td>2381374.0</td>\n",
       "    </tr>\n",
       "    <tr>\n",
       "      <th>25</th>\n",
       "      <td>99acres.com</td>\n",
       "      <td>2017</td>\n",
       "      <td>mobile</td>\n",
       "      <td>4</td>\n",
       "      <td>4849232.0</td>\n",
       "      <td>2035193.0</td>\n",
       "      <td>2553040.0</td>\n",
       "    </tr>\n",
       "  </tbody>\n",
       "</table>\n",
       "</div>"
      ],
      "text/plain": [
       "           site  Year   device  Month   GA value   SW value      SW-WW\n",
       "0   99acres.com  2016  desktop      4  4505692.0  3368529.0  3672176.0\n",
       "1   99acres.com  2016  desktop      5  4640054.0  3625624.0  3927876.0\n",
       "2   99acres.com  2016  desktop      6  4634820.0  3630764.0  3891760.0\n",
       "3   99acres.com  2016  desktop      7  4688520.0  3391903.0  3693705.0\n",
       "4   99acres.com  2016  desktop      8  4625705.0  3440056.0  3741874.0\n",
       "5   99acres.com  2016  desktop      9  4523815.0  3126548.0  3371398.0\n",
       "6   99acres.com  2016  desktop     10  3913242.0  2828697.0  3065432.0\n",
       "7   99acres.com  2016  desktop     11  3564214.0  2611551.0  2810532.0\n",
       "8   99acres.com  2016  desktop     12  3477466.0  2418248.0  2631954.0\n",
       "9   99acres.com  2017  desktop      1  4120051.0  2885979.0  3165010.0\n",
       "10  99acres.com  2017  desktop      2  3921263.0  2964301.0  3334767.0\n",
       "11  99acres.com  2017  desktop      3  4461264.0  3183542.0  3566936.0\n",
       "12  99acres.com  2017  desktop      4  4101137.0  3259554.0  3626553.0\n",
       "13  99acres.com  2016   mobile      4  2768431.0  2470680.0  2746118.0\n",
       "14  99acres.com  2016   mobile      5  3109639.0  2435720.0  2772412.0\n",
       "15  99acres.com  2016   mobile      6  3227258.0  2631462.0  2907792.0\n",
       "16  99acres.com  2016   mobile      7  3306307.0  2582508.0  2915612.0\n",
       "17  99acres.com  2016   mobile      8  3923996.0  2308446.0  2653440.0\n",
       "18  99acres.com  2016   mobile      9  3862132.0  2283550.0  2769473.0\n",
       "19  99acres.com  2016   mobile     10  3408078.0  1839079.0  2117895.0\n",
       "20  99acres.com  2016   mobile     11  2923664.0  1722590.0  2060866.0\n",
       "21  99acres.com  2016   mobile     12  2913163.0  1512864.0  1770117.0\n",
       "22  99acres.com  2017   mobile      1  3684749.0  1729808.0  2136532.0\n",
       "23  99acres.com  2017   mobile      2  3914831.0  1790517.0  2041307.0\n",
       "24  99acres.com  2017   mobile      3  4915163.0  2114851.0  2381374.0\n",
       "25  99acres.com  2017   mobile      4  4849232.0  2035193.0  2553040.0"
      ]
     },
     "execution_count": 4,
     "metadata": {},
     "output_type": "execute_result"
    }
   ],
   "source": [
    "data"
   ]
  },
  {
   "cell_type": "code",
   "execution_count": 6,
   "metadata": {
    "collapsed": false
   },
   "outputs": [
    {
     "data": {
      "image/png": "[encoded data removed]",
      "text/plain": [
       "<matplotlib.figure.Figure at 0x117771090>"
      ]
     },
     "metadata": {},
     "output_type": "display_data"
    },
    {
     "name": "stdout",
     "output_type": "stream",
     "text": [
      "device:\t mobile\n",
      "delta:\t -0.228543928152\n",
      "site:\t 99acres.com\n",
      "corr:\t 0.326109686805\n",
      "year:\t 2016\n"
     ]
    },
    {
     "data": {
      "image/png": "[encoded data removed]",
      "text/plain": [
       "<matplotlib.figure.Figure at 0x117766d90>"
      ]
     },
     "metadata": {},
     "output_type": "display_data"
    },
    {
     "name": "stdout",
     "output_type": "stream",
     "text": [
      "device:\t desktop\n",
      "delta:\t -0.201351066462\n",
      "site:\t 99acres.com\n",
      "corr:\t 0.960170054179\n",
      "year:\t 2016\n"
     ]
    },
    {
     "data": {
      "image/png": "[encoded data removed]",
      "text/plain": [
       "<matplotlib.figure.Figure at 0x1179a5410>"
      ]
     },
     "metadata": {},
     "output_type": "display_data"
    },
    {
     "name": "stdout",
     "output_type": "stream",
     "text": [
      "device:\t mobile\n",
      "delta:\t -0.475220794778\n",
      "site:\t 99acres.com\n",
      "corr:\t 0.889888321909\n",
      "year:\t 2017\n"
     ]
    },
    {
     "data": {
      "image/png": "[encoded data removed]",
      "text/plain": [
       "<matplotlib.figure.Figure at 0x117b5a790>"
      ]
     },
     "metadata": {},
     "output_type": "display_data"
    },
    {
     "name": "stdout",
     "output_type": "stream",
     "text": [
      "device:\t desktop\n",
      "delta:\t -0.175289024173\n",
      "site:\t 99acres.com\n",
      "corr:\t 0.435042712016\n",
      "year:\t 2017\n",
      "[{'device': 'mobile', 'year': 2016, 'site': '99acres.com', 'corr': 0.32610968680509078, 'delta': -0.22854392815216337}, {'device': 'desktop', 'year': 2016, 'site': '99acres.com', 'corr': 0.96017005417882217, 'delta': -0.20135106646195286}, {'device': 'mobile', 'year': 2017, 'site': '99acres.com', 'corr': 0.88988832190852707, 'delta': -0.47522079477769347}, {'device': 'desktop', 'year': 2017, 'site': '99acres.com', 'corr': 0.43504271201591777, 'delta': -0.17528902417320461}]\n"
     ]
    }
   ],
   "source": [
    "saveit=False\n",
    "summary=list()\n",
    "local_summary={}    \n",
    "for sites in set(data[\"site\"]):\n",
    "    local_summary[\"site\"]=sites\n",
    "    for y in set(data[\"Year\"]):\n",
    "        local_summary[\"year\"]=y\n",
    "        for devices in set(data[\"device\"]):\n",
    "            tmp_data=data.loc[(data['site'] == sites) & (data['device'] == devices) & (data['Year'] == y)]\n",
    "            x=list(set(tmp_data.Month))\n",
    "            y_sw=tmp_data[\"SW-WW\"]\n",
    "            y_ga=tmp_data[\"GA value\"]\n",
    "            local_summary[\"device\"]=devices\n",
    "            #plot\n",
    "            plt.figure(1, figsize = (8,4))\n",
    "            plt.plot(x, y_sw, 'b-', label='SW Data', linewidth=2.0)\n",
    "            plt.plot(x, y_ga, 'g-', label=\"GA Data\", linewidth=2.0)\n",
    "            plt.xlabel('Month')\n",
    "            plt.ylabel('Visits')\n",
    "            plt.legend(loc='upper right')\n",
    "            plt.suptitle(\"%s (%d) - %s\" % (sites, y, devices))\n",
    "            ymax=int(np.max(np.concatenate((y_ga,y_sw))))\n",
    "            plt.ylim([0,1.2*ymax])\n",
    "            if saveit==True:\n",
    "                plt.savefig(\"output\\\\%s (%d) - %s.png\" % (sites, y, devices)) #save the plot to fil\n",
    "            else:\n",
    "                plt.show() #display the plot\n",
    "            plt.clf()\n",
    "            local_summary[\"delta\"]=(sum(y_sw)-sum(y_ga))/float(sum(y_ga))\n",
    "            local_summary[\"corr\"]=np.corrcoef(y_sw,y_ga)[0,1]\n",
    "            summary.append(dict(local_summary))\n",
    "            #print details for each site, year, device\n",
    "            for k,v in local_summary.iteritems():\n",
    "                print \"%s:\\t %s\" % (k, v)\n",
    "            #raw_input(\"Press Enter to continue...\") #stop for manual processing\n",
    "print(summary)"
   ]
  },
  {
   "cell_type": "code",
   "execution_count": 196,
   "metadata": {
    "collapsed": false
   },
   "outputs": [],
   "source": [
    "data[\"Year\"]=2016"
   ]
  },
  {
   "cell_type": "code",
   "execution_count": 18,
   "metadata": {
    "collapsed": false
   },
   "outputs": [],
   "source": [
    "output=pd.DataFrame(summary)\n",
    "output.to_csv('C:\\\\Users\\\\yaakov.tayeb\\\\Desktop\\\\\\dis_data.csv', header=True, mode='a')"
   ]
  }
 ],
 "metadata": {
  "kernelspec": {
   "display_name": "Python 2",
   "language": "python",
   "name": "python2"
  },
  "language_info": {
   "codemirror_mode": {
    "name": "ipython",
    "version": 2
   },
   "file_extension": ".py",
   "mimetype": "text/x-python",
   "name": "python",
   "nbconvert_exporter": "python",
   "pygments_lexer": "ipython2",
   "version": "2.7.13"
  }
 },
 "nbformat": 4,
 "nbformat_minor": 0
}
