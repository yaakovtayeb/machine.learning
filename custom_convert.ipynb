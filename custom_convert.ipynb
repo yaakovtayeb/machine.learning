{
 "cells": [
  {
   "cell_type": "code",
   "execution_count": null,
   "metadata": {
    "collapsed": true
   },
   "outputs": [],
   "source": [
    "def Month2Num(month):\n",
    "    cal={}\n",
    "    cal[\"January\"]=1\n",
    "    cal[\"january\"]=1\n",
    "    cal[\"Jan\"]=1\n",
    "    cal[\"jan\"]=1\n",
    "    cal[\"February\"]=2\n",
    "    cal[\"february\"]=2\n",
    "    cal[\"Feb\"]=2\n",
    "    cal[\"jan\"]=2\n",
    "    cal[\"March\"]=3\n",
    "    cal[\"march\"]=3\n",
    "    cal[\"Mar\"]=3\n",
    "    cal[\"jan\"]=3\n",
    "    cal[\"April\"]=4\n",
    "    cal[\"april\"]=4\n",
    "    cal[\"Apr\"]=4\n",
    "    cal[\"jan\"]=4\n",
    "    cal[\"May\"]=5\n",
    "    cal[\"may\"]=5\n",
    "    cal[\"June\"]=6\n",
    "    cal[\"june\"]=6\n",
    "    cal[\"Jun\"]=6\n",
    "    cal[\"jun\"]=6\n",
    "    cal[\"July\"]=7\n",
    "    cal[\"july\"]=7\n",
    "    cal[\"Jul\"]=7\n",
    "    cal[\"jul\"]=7\n",
    "    cal[\"August\"]=8\n",
    "    cal[\"august\"]=8\n",
    "    cal[\"Aug\"]=8\n",
    "    cal[\"aug\"]=8\n",
    "    cal[\"September\"]=9\n",
    "    cal[\"september\"]=9\n",
    "    cal[\"Sep\"]=9\n",
    "    cal[\"sep\"]=9\n",
    "    cal[\"October\"]=10\n",
    "    cal[\"october\"]=10\n",
    "    cal[\"Oct\"]=10\n",
    "    cal[\"oct\"]=10\n",
    "    cal[\"November\"]=11\n",
    "    cal[\"november\"]=11\n",
    "    cal[\"Nov\"]=11\n",
    "    cal[\"nov\"]=11\n",
    "    cal[\"December\"]=12\n",
    "    cal[\"december\"]=12\n",
    "    cal[\"Dec\"]=12\n",
    "    cal[\"dec\"]=12\n",
    "    return cal[month]"
   ]
  }
 ],
 "metadata": {
  "kernelspec": {
   "display_name": "Python 2",
   "language": "python",
   "name": "python2"
  },
  "language_info": {
   "codemirror_mode": {
    "name": "ipython",
    "version": 2
   },
   "file_extension": ".py",
   "mimetype": "text/x-python",
   "name": "python",
   "nbconvert_exporter": "python",
   "pygments_lexer": "ipython2",
   "version": "2.7.13"
  }
 },
 "nbformat": 4,
 "nbformat_minor": 2
}
